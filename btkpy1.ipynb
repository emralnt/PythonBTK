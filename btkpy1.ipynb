{
  "nbformat": 4,
  "nbformat_minor": 0,
  "metadata": {
    "colab": {
      "name": "btkpy1.ipynb",
      "provenance": [],
      "authorship_tag": "ABX9TyNlrxcSKajQrrDFu3eeCIdx",
      "include_colab_link": true
    },
    "kernelspec": {
      "name": "python3",
      "display_name": "Python 3"
    },
    "language_info": {
      "name": "python"
    }
  },
  "cells": [
    {
      "cell_type": "markdown",
      "metadata": {
        "id": "view-in-github",
        "colab_type": "text"
      },
      "source": [
        "<a href=\"https://colab.research.google.com/github/emralnt/PythonBTK/blob/main/btkpy1.ipynb\" target=\"_parent\"><img src=\"https://colab.research.google.com/assets/colab-badge.svg\" alt=\"Open In Colab\"/></a>"
      ]
    },
    {
      "cell_type": "code",
      "execution_count": null,
      "metadata": {
        "id": "UOGLCPyQhNTe"
      },
      "outputs": [],
      "source": [
        "siparis1= 110\n",
        "siparis2= 1100.5\n",
        "siparis3= 356.95\n",
        "\n",
        "\n",
        "print(\"Sipariş Tutarı: \" ,(siparis1 + siparis2 + siparis3))"
      ]
    },
    {
      "cell_type": "code",
      "source": [
        "#veri tipi dönüşümleri\n",
        "\n",
        "\n",
        "x= input(\"1. sayı: \")\n",
        "y= input(\"2.Sayı: \")\n",
        "\n",
        "toplam = int(x) + int(y)\n",
        "carpım = int(x)*int(y)\n",
        "\n",
        "print(f'Toplama sonucu: {toplam}\\nÇarpım sonucu: {carpım}')"
      ],
      "metadata": {
        "id": "8CdxeaMprht-"
      },
      "execution_count": null,
      "outputs": []
    },
    {
      "cell_type": "code",
      "source": [
        "#yarı çapı verilen bir dairenin alan ve çevresini heaplama\n",
        "\n",
        "\n",
        "r = input(\"Lütfen dairenin yarı çapını giriniz: \")\n",
        "pi = 3.14\n",
        "alan= pi * ((float(r))**2)\n",
        "cevre= 2 * pi * (float(r))\n",
        "\n",
        "print(\"Dairenin alanı: \", alan ,\"\\nDairenin çevresi: \", cevre)"
      ],
      "metadata": {
        "id": "W2ceZdHMsqwT"
      },
      "execution_count": null,
      "outputs": []
    },
    {
      "cell_type": "code",
      "source": [
        "#str toplama\n",
        "\n",
        "\n",
        "name=\"emre\"\n",
        "surname=\"Altun\"\n",
        "yas=\"21\"\n",
        "\n",
        "\n",
        "print(\"Benim adım\"+\" \"+name+\" \"+\"Soyadım\"+\" \"+surname+\" \"+\"Yaşım\"+\" \"+yas)"
      ],
      "metadata": {
        "id": "4CciMAYUyHEk"
      },
      "execution_count": null,
      "outputs": []
    },
    {
      "cell_type": "code",
      "source": [
        "#index bilgisi için\n",
        "\n",
        "abc[1] # kare parantez kullan"
      ],
      "metadata": {
        "id": "xXjEgGIm5KTF"
      },
      "execution_count": null,
      "outputs": []
    },
    {
      "cell_type": "code",
      "source": [
        "#string formatlama\n",
        "\n",
        "#.format kullanımı yada string kullanabiliriz.\n",
        "\n",
        "name= \"emre\"\n",
        "print(\"benim adım {}\" .format(name))\n",
        "\n",
        "print(f\"benim adım {name}\")\n",
        "\n",
        "print(\"benim adım\", name)\n",
        "\n",
        "\n",
        "result=200/700\n",
        "\n",
        "print(\"the result is {r:1.4}\" .format(r=result))\n",
        "\n",
        "#burdaki 1.4 0 dan sonra kaç rakam gözüküceğini belirler.\n"
      ],
      "metadata": {
        "id": "YtEBFcwc5Qg-"
      },
      "execution_count": null,
      "outputs": []
    },
    {
      "cell_type": "code",
      "source": [
        "#örnek sorular\n",
        "\n",
        "website= \"http://www.sadikturan.com\"\n",
        "course= \"Python Kursu: Baştan Sona Python Programlama Rehberiniz (40 Saat)\"\n",
        "\n",
        "print(len(course)) #1\n",
        "\n",
        "print(website[7:10]) #2\n",
        "\n",
        "print(website[-3:]) #3\n",
        "\n",
        "print(course[:16],\"**********\" ,course[-16:]) #4\n",
        "\n",
        "print(course[::-1])\n",
        "\n",
        "name,surname,age,job=\"Bora\",\"Yılmaz\",32,\"mühendis\"\n",
        "\n",
        "print(f\"Benim adım {name} {surname}, yaşım {age} ve mesleğim {job} \")\n",
        "\n",
        "a=\"Hello world\"\n",
        "print(a[0:6]+ \"W\"+ a[7:11])\n",
        "\n",
        "b=\"abc\"\n",
        "\n",
        "print(b*3)\n",
        "\n",
        "\n",
        "\n"
      ],
      "metadata": {
        "id": "lvhDrBzn64QA"
      },
      "execution_count": null,
      "outputs": []
    },
    {
      "cell_type": "code",
      "source": [
        "#string metodları\n",
        "\n",
        "a = \"emre altun\"\n",
        "\n",
        "a.upper()   # tüm harfleri büyütür\n",
        "a.lower()   #tüm harfleri küçültür\n",
        "a.title()   # baş harfleri büyütür\n",
        "a.capitalize()    #sadece ilk harfi büyütür.\n",
        "a.strip()  #baş ve sondaki boşlukları siler ya da içine ne yazarsan\n",
        "a.split()  # boşluklardan böler ve karakter dizesi olarak verir liste yapar.\n",
        "a=\" \".join(a) #bölünmüş kelimeleri tırnak içindeki ile birşelştirerek yeniden yazar.\n",
        "a.find(\"emre\") # kelimenin içinde varmı diye bakmak için indexini söyler -1 gelirse cümlede yoktur\n",
        "a.startswith(\"e\") #kelime ne ile başladığını sorgulamak için true ya da false verir.\n",
        "a.endswith(\"n\") #kelimenin ne ile bittiği\n",
        "a.replace(\"emre\",\"zehra\") #kelimede 1. yazdığımız yerdeki isim yerine 2. ile değiştirir.\n",
        "a.center(100,\"*\") # 100 karakter içine ortalar cümleyi ,ikiniciyi yazarsakda boşluk yerine yıldız koyar\n",
        "\n",
        "# detaylı bilgi için https://www.w3schools.com/python/python_ref_string.asp\n"
      ],
      "metadata": {
        "id": "FOuSiT8k74E4"
      },
      "execution_count": null,
      "outputs": []
    },
    {
      "cell_type": "code",
      "source": [
        "#string metodları için uygulama\n",
        "\n",
        "f= \"http://www.sadikturan.com\"\n",
        "g= \"Python Kursu: Baştan Sona Python Programlama Rehberiniz (40 Saat)\"\n",
        "\n",
        "hello= \" Hello World \"\n",
        "hello.strip()  #1\n",
        "\n",
        "sadik= \"www.sadikturan.com\"\n",
        "\n",
        "sadik.strip(\"w.com\") #2 \n",
        "\n",
        "g.lower() #3\n",
        "\n",
        "g.count(\"a\") #4 kaç tane var içinde\n",
        "\n",
        "(f.startswith(\"www\"))\n",
        "(f.endswith(\"com\"))   #5\n",
        "\n",
        "f.find(\".com\")  #6\n",
        "\n",
        "g.isalpha() #7 içindekilerin hepsi alfabetik mi isdigit dersek sayımı diye sorarız.\n",
        "\n",
        "cont=\"Emre Altun\"\n",
        "\n",
        "cont.center(50,\"*\") #8\n",
        "\n",
        "g.replace(\" \",\"-\") #9\n",
        "\n",
        "hello.replace(\"World\",\"There\") #10\n",
        "\n",
        "g.split() #11\n",
        "\n",
        "\n",
        "\n",
        "\n",
        "\n",
        "\n"
      ],
      "metadata": {
        "id": "xIn2H6otE4iY"
      },
      "execution_count": null,
      "outputs": []
    },
    {
      "cell_type": "code",
      "source": [
        "#listeler için uygulama\n",
        "\n",
        "list1= [\"Bmw\",\"Mercedes\",\"Opel\",\"Mazda\"]\n",
        "\n",
        "len(list1) #1\n",
        "\n",
        "list1[0]\n",
        "list1[-1] #2\n",
        "\n",
        "list1[-1] = \"Toyota\"\n",
        "\n",
        "\"Mercedes\" in list1 #5  listenin içinde varmı kontrol etme\n",
        "\n",
        "list1[-2]\n",
        "\n",
        "list1[:3]\n",
        "\n",
        "list1[-2:] = \"Toyota\",\"Reno\"\n",
        "\n",
        "list1.append(\"a\")\n",
        "\n",
        "del list1[-1] #listeden silmek için\n",
        "\n",
        "list1[::-1]\n",
        "\n"
      ],
      "metadata": {
        "id": "0U0q3udCdejD"
      },
      "execution_count": null,
      "outputs": []
    },
    {
      "cell_type": "code",
      "source": [
        "#Liste Metotları\n",
        "\n",
        "min(listeadı) #listenin en küçük değerini yazdırır max da en büyğünü\n",
        "\n",
        ".append() # ile ekleme yaaprız listenin en sonuna\n",
        "\n",
        ".insert(3,78) #3. indekse ikinci yazdığımız elemanı ekler\n",
        "\n",
        ".pop()  #en sondakini listeden siler ya da indeks belirterek silebiliriz\n",
        "\n",
        ".remove() #karakteri içine yazarak sildirebiliriz.\n",
        "\n",
        ".sort() #sıralama yapar\n",
        "\n",
        ".reverse() #listeyi ters çevririr\n",
        "\n",
        "\n",
        ".count(\"aramak istediğimiz\") #elemandan kaç tane olduğunu öğrenmek için\n",
        "\n",
        "\n",
        ".clear() #tüm elmanları siler\n"
      ],
      "metadata": {
        "id": "RUNfgZhhkcVJ"
      },
      "execution_count": null,
      "outputs": []
    },
    {
      "cell_type": "code",
      "source": [
        "#Liste metot uygulama\n",
        "\n",
        "names =[\"Ali\",\"Yağmur\",\"Hakan\",\"Deniz\"]\n",
        "years=[1998,2000,1998,1987]\n",
        "\n",
        "names.append(\"Cenk\")\n",
        "\n",
        "names.insert(0,\"Sena\")\n",
        "\n",
        "#names.remove(\"Deniz\")\n",
        "\n",
        "names.index(\"Deniz\")\n",
        "\n",
        "\"Ali\" in names\n",
        "\n",
        "names.reverse()\n",
        "\n",
        "names.sort()\n",
        "\n",
        "years.sort()\n",
        "\n",
        "years\n",
        "\n",
        "stra=\"Chevrolet\",\"Dacia\"\n",
        "\n",
        "list(stra)\n",
        "\n",
        "min(years)\n",
        "max(years)\n",
        "\n",
        "years.count(1998)\n",
        "\n",
        "years.clear()\n",
        "years\n",
        "\n",
        "marka1=input(\"marka1\")\n",
        "marka2=input(\"marka2\")\n",
        "marka3=input(\"marka3\")\n",
        "\n",
        "markalar = [marka1,marka2,marka3]\n",
        "\n",
        "print(markalar)\n"
      ],
      "metadata": {
        "id": "lIUdDeiPp7k8"
      },
      "execution_count": null,
      "outputs": []
    },
    {
      "cell_type": "code",
      "source": [
        "#Tuple\n",
        "#değiştirelemeyen listedir\n"
      ],
      "metadata": {
        "id": "wlpXmOWwrPDa"
      },
      "execution_count": null,
      "outputs": []
    },
    {
      "cell_type": "code",
      "source": [
        "#Dictionary uygulama\n",
        "\n",
        "\n",
        "ogrenciler = {\n",
        "    \n",
        "    \"120\" : {\n",
        "        \n",
        "        \"ad\" : \"Ali\",\n",
        "        \"soyad\": \"Yılmaz\",\n",
        "        \"telefon\": \"532 000 00 01\"\n",
        "    },\n",
        "\n",
        "    \"125\" : {\n",
        "        \n",
        "        \"ad\" : \"Can\",\n",
        "        \"soyad\": \"Korkmaz\",\n",
        "        \"telefon\": \"532 000 00 02\"\n",
        "    },\n",
        "\n",
        "    \"128\" : {\n",
        "        \n",
        "        \"ad\" : \"Volkan\",\n",
        "        \"soyad\": \"Yükselen\",\n",
        "        \"telefon\": \"532 000 00 03\"\n",
        "    },\n",
        "    \n",
        "  }\n",
        "\n",
        "kisiler = {}\n",
        "\n",
        "numara= input(\"Öğrenci Numaranızı Giriniz: \")\n",
        "ad= input(\"Adınızı Giriniz: \")\n",
        "soyad=input(\"Soyadınızı Giriniz: \")\n",
        "telefon=input(\"Telefon Numaranızı Giriniz: \")\n",
        "\n",
        "kisiler[numara] = {\"add\" :ad,\n",
        "                   \"soyadd\" :soyad,\n",
        "                   \"telefonn\" :telefon\n",
        "                   }\n",
        "\n",
        "print(kisiler)\n",
        "\n",
        "#.uptade ile iç içe sözlük ile yapabiliriz aynısını birden fazla \n"
      ],
      "metadata": {
        "id": "L0y9FhsDxWT_"
      },
      "execution_count": null,
      "outputs": []
    },
    {
      "cell_type": "code",
      "source": [
        "#set indekslenmez sıralyamayız \n",
        "#.add eklenme\n",
        "#.uptade ile fazladan eklenir\n",
        "#.remove ve .discard ile silinir"
      ],
      "metadata": {
        "id": "yjVEdoTm1uVi"
      },
      "execution_count": null,
      "outputs": []
    }
  ]
}